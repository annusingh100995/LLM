{
 "cells": [
  {
   "cell_type": "code",
   "execution_count": 5,
   "id": "38efb3dd",
   "metadata": {},
   "outputs": [
    {
     "name": "stdout",
     "output_type": "stream",
     "text": [
      "﻿Dorothy and the Wizard in Oz\n",
      "\n",
      "\n",
      "  A Faithful Record of Their Amazing Adventures\n",
      "    in an Underground World; and How with the\n",
      "     Aid of Their Friends Zeb Hugson, Eureka\n",
      "       the Kitten, and Jim th\n"
     ]
    }
   ],
   "source": [
    "with open(\"wiz_of_oz.txt\", 'r', encoding='utf-8') as f:\n",
    "    text = f.read()\n",
    "    \n",
    "print((text[:200]))"
   ]
  },
  {
   "cell_type": "code",
   "execution_count": 6,
   "id": "eb38a3af",
   "metadata": {},
   "outputs": [
    {
     "name": "stdout",
     "output_type": "stream",
     "text": [
      "['\\n', ' ', '!', '\"', '&', \"'\", '(', ')', ',', '-', '.', '0', '1', '2', '3', '4', '5', '6', '7', '8', '9', ':', ';', '?', 'A', 'B', 'C', 'D', 'E', 'F', 'G', 'H', 'I', 'J', 'K', 'L', 'M', 'N', 'O', 'P', 'Q', 'R', 'S', 'T', 'U', 'V', 'W', 'Y', 'Z', 'a', 'b', 'c', 'd', 'e', 'f', 'g', 'h', 'i', 'j', 'k', 'l', 'm', 'n', 'o', 'p', 'q', 'r', 's', 't', 'u', 'v', 'w', 'x', 'y', 'z', '\\ufeff']\n"
     ]
    }
   ],
   "source": [
    "chars = sorted(set(text))\n",
    "print(chars)"
   ]
  },
  {
   "cell_type": "code",
   "execution_count": 7,
   "id": "beb8afbb",
   "metadata": {},
   "outputs": [],
   "source": [
    "string_to_int  = {ch:i for i,ch in enumerate(chars) }\n",
    "int_ti_string = {i:ch for i, ch in enumerate(chars)}\n",
    "encode = lambda s:[string_to_int[c] for c in s]\n",
    "decode = lambda l:''.join([int_ti_string[i] for i in l])"
   ]
  },
  {
   "cell_type": "code",
   "execution_count": 9,
   "id": "26d258df",
   "metadata": {},
   "outputs": [],
   "source": [
    "a  = encode(\"Annu\")"
   ]
  },
  {
   "cell_type": "code",
   "execution_count": 10,
   "id": "5f88eda2",
   "metadata": {},
   "outputs": [
    {
     "data": {
      "text/plain": [
       "'Annu'"
      ]
     },
     "execution_count": 10,
     "metadata": {},
     "output_type": "execute_result"
    }
   ],
   "source": [
    "decode(a)"
   ]
  },
  {
   "cell_type": "code",
   "execution_count": 13,
   "id": "efe4cbfe",
   "metadata": {},
   "outputs": [],
   "source": [
    "import torch"
   ]
  },
  {
   "cell_type": "code",
   "execution_count": 14,
   "id": "310305dc",
   "metadata": {},
   "outputs": [],
   "source": [
    "data = torch.tensor(encode(text), dtype = torch.long)"
   ]
  },
  {
   "cell_type": "code",
   "execution_count": 17,
   "id": "76dabdfa",
   "metadata": {},
   "outputs": [],
   "source": [
    "n = int(0.8*len(data))\n",
    "train_data = data[:n]\n",
    "val_data = data[n:]"
   ]
  },
  {
   "cell_type": "code",
   "execution_count": 22,
   "id": "b7d322d8",
   "metadata": {},
   "outputs": [],
   "source": [
    "block_size = 8\n",
    "x = train_data[:block_size]\n",
    "y = train_data[1:block_size+1]"
   ]
  },
  {
   "cell_type": "code",
   "execution_count": 23,
   "id": "c67af2c7",
   "metadata": {},
   "outputs": [
    {
     "name": "stdout",
     "output_type": "stream",
     "text": [
      "when input is  tensor([75]) target is tensor(27)\n",
      "when input is  tensor([75, 27]) target is tensor(63)\n",
      "when input is  tensor([75, 27, 63]) target is tensor(66)\n",
      "when input is  tensor([75, 27, 63, 66]) target is tensor(63)\n",
      "when input is  tensor([75, 27, 63, 66, 63]) target is tensor(68)\n",
      "when input is  tensor([75, 27, 63, 66, 63, 68]) target is tensor(56)\n",
      "when input is  tensor([75, 27, 63, 66, 63, 68, 56]) target is tensor(73)\n",
      "when input is  tensor([75, 27, 63, 66, 63, 68, 56, 73]) target is tensor(1)\n"
     ]
    }
   ],
   "source": [
    "for t in range(block_size):\n",
    "    context = x[:t+1]\n",
    "    target = y[t]\n",
    "    print(\"when input is \",context, 'target is', target)"
   ]
  },
  {
   "cell_type": "code",
   "execution_count": 30,
   "id": "d2d6b8a2",
   "metadata": {},
   "outputs": [
    {
     "name": "stdout",
     "output_type": "stream",
     "text": [
      "tensor([1, 1, 1, 1, 1, 1, 1, 1, 1, 0])\n"
     ]
    }
   ],
   "source": [
    "probabilites = torch.tensor([0.1,0.9])\n",
    "\n",
    "samples = torch.multinomial(probabilites, num_samples=10,replacement=True)\n",
    "print(samples)"
   ]
  },
  {
   "cell_type": "code",
   "execution_count": 33,
   "id": "ea656fb4",
   "metadata": {},
   "outputs": [
    {
     "data": {
      "text/plain": [
       "tensor([1, 2, 3, 4, 5])"
      ]
     },
     "execution_count": 33,
     "metadata": {},
     "output_type": "execute_result"
    }
   ],
   "source": [
    "tensor = torch.tensor([1,2,3,4])\n",
    "out = torch.cat((tensor, torch.tensor([5])), dim=0)\n",
    "out"
   ]
  },
  {
   "cell_type": "code",
   "execution_count": 35,
   "id": "3133f61e",
   "metadata": {},
   "outputs": [
    {
     "data": {
      "text/plain": [
       "tensor([[1., 0., 0., 0., 0.],\n",
       "        [1., 1., 0., 0., 0.],\n",
       "        [1., 1., 1., 0., 0.],\n",
       "        [1., 1., 1., 1., 0.],\n",
       "        [1., 1., 1., 1., 1.]])"
      ]
     },
     "execution_count": 35,
     "metadata": {},
     "output_type": "execute_result"
    }
   ],
   "source": [
    "out = torch.tril(torch.ones(5,5)) # triangle lower\n",
    "out"
   ]
  },
  {
   "cell_type": "code",
   "execution_count": 36,
   "id": "6b53d9a2",
   "metadata": {},
   "outputs": [
    {
     "data": {
      "text/plain": [
       "tensor([[1., 1., 1., 1., 1.],\n",
       "        [0., 1., 1., 1., 1.],\n",
       "        [0., 0., 1., 1., 1.],\n",
       "        [0., 0., 0., 1., 1.],\n",
       "        [0., 0., 0., 0., 1.]])"
      ]
     },
     "execution_count": 36,
     "metadata": {},
     "output_type": "execute_result"
    }
   ],
   "source": [
    "out = torch.triu(torch.ones(5,5)) # triangle upper\n",
    "out"
   ]
  },
  {
   "cell_type": "code",
   "execution_count": 39,
   "id": "0ecddc71",
   "metadata": {},
   "outputs": [
    {
     "data": {
      "text/plain": [
       "tensor([[0., -inf, -inf, -inf, -inf],\n",
       "        [0., 0., -inf, -inf, -inf],\n",
       "        [0., 0., 0., -inf, -inf],\n",
       "        [0., 0., 0., 0., -inf],\n",
       "        [0., 0., 0., 0., 0.]])"
      ]
     },
     "execution_count": 39,
     "metadata": {},
     "output_type": "execute_result"
    }
   ],
   "source": [
    "out = torch.zeros(5,5).masked_fill(torch.tril(torch.ones(5,5))==0, float('-inf'))\n",
    "out"
   ]
  },
  {
   "cell_type": "code",
   "execution_count": 40,
   "id": "293c42f4",
   "metadata": {},
   "outputs": [
    {
     "data": {
      "text/plain": [
       "tensor([[1., 0., 0., 0., 0.],\n",
       "        [1., 1., 0., 0., 0.],\n",
       "        [1., 1., 1., 0., 0.],\n",
       "        [1., 1., 1., 1., 0.],\n",
       "        [1., 1., 1., 1., 1.]])"
      ]
     },
     "execution_count": 40,
     "metadata": {},
     "output_type": "execute_result"
    }
   ],
   "source": [
    "torch.exp(out)"
   ]
  },
  {
   "cell_type": "code",
   "execution_count": 41,
   "id": "6fcb6fd8",
   "metadata": {},
   "outputs": [
    {
     "data": {
      "text/plain": [
       "torch.Size([4, 3, 2])"
      ]
     },
     "execution_count": 41,
     "metadata": {},
     "output_type": "execute_result"
    }
   ],
   "source": [
    "input = torch.zeros(2,3,4)\n",
    "out = input.transpose(0,2)\n",
    "out.shape"
   ]
  },
  {
   "cell_type": "code",
   "execution_count": 42,
   "id": "935d088d",
   "metadata": {},
   "outputs": [
    {
     "data": {
      "text/plain": [
       "tensor([[1, 2, 3],\n",
       "        [4, 5, 6],\n",
       "        [4, 5, 6]])"
      ]
     },
     "execution_count": 42,
     "metadata": {},
     "output_type": "execute_result"
    }
   ],
   "source": [
    "t1 = torch.tensor([1,2,3])\n",
    "t2 = torch.tensor([4,5,6])\n",
    "t3 = torch.tensor([7,8,9])\n",
    "\n",
    "stacked_tensor = torch.stack([t1,t2,t2])\n",
    "stacked_tensor"
   ]
  },
  {
   "cell_type": "code",
   "execution_count": 44,
   "id": "e526d6f1",
   "metadata": {},
   "outputs": [
    {
     "name": "stdout",
     "output_type": "stream",
     "text": [
      "tensor([ 4.8822,  6.8594, -1.6966], grad_fn=<SqueezeBackward4>)\n"
     ]
    }
   ],
   "source": [
    "import torch.nn as nn\n",
    "sample = torch.tensor([10.0,10.0,10.0])\n",
    "linear = nn.Linear(3,3,bias=False)\n",
    "print(linear(sample))"
   ]
  },
  {
   "cell_type": "code",
   "execution_count": 47,
   "id": "b8f233dc",
   "metadata": {},
   "outputs": [
    {
     "data": {
      "text/plain": [
       "tensor([0.0900, 0.2447, 0.6652])"
      ]
     },
     "execution_count": 47,
     "metadata": {},
     "output_type": "execute_result"
    }
   ],
   "source": [
    "import torch.nn.functional as F\n",
    "\n",
    "t1 = torch.tensor([1.0,2.0,3.0])\n",
    "softmax_out = F.softmax(t1, dim=0)\n",
    "softmax_out"
   ]
  },
  {
   "cell_type": "code",
   "execution_count": 49,
   "id": "269d0112",
   "metadata": {},
   "outputs": [
    {
     "name": "stdout",
     "output_type": "stream",
     "text": [
      "tensor([ 5.0288, 10.6309, -0.8169,  0.2804, -0.5542, -6.3958, -8.8486, -1.9494,\n",
      "        -5.2861, -4.9472], grad_fn=<SqueezeBackward4>)\n"
     ]
    }
   ],
   "source": [
    "import torch.nn as nn\n",
    "sample = torch.tensor([10.0,10.0,10.0])\n",
    "linear = nn.Linear(3,10,bias=False)\n",
    "print(linear(sample))"
   ]
  },
  {
   "cell_type": "code",
   "execution_count": 53,
   "id": "14ed97c8",
   "metadata": {},
   "outputs": [
    {
     "data": {
      "text/plain": [
       "torch.Size([4, 100])"
      ]
     },
     "execution_count": 53,
     "metadata": {},
     "output_type": "execute_result"
    }
   ],
   "source": [
    "vocab_size = 1000\n",
    "embedding_dim = 100\n",
    "embedding = nn.Embedding(vocab_size ,embedding_dim)\n",
    "\n",
    "input_indices = torch.LongTensor([1,4,2,7])\n",
    "emb_out = embedding(input_indices)\n",
    "emb_out.shape"
   ]
  },
  {
   "cell_type": "code",
   "execution_count": 56,
   "id": "b777f545",
   "metadata": {},
   "outputs": [],
   "source": [
    "a = torch.tensor([[2,3],[5,4]])\n",
    "b = torch.tensor([[2,3],[5,4]])"
   ]
  },
  {
   "cell_type": "code",
   "execution_count": 67,
   "id": "60951e07",
   "metadata": {},
   "outputs": [],
   "source": [
    "a = torch.tensor([[1,2],[3,4],[5,6]])\n",
    "b = torch.tensor([[7,8,9],[10,11,12]])"
   ]
  },
  {
   "cell_type": "code",
   "execution_count": 70,
   "id": "42685200",
   "metadata": {},
   "outputs": [
    {
     "data": {
      "text/plain": [
       "tensor([[ 27,  30,  33],\n",
       "        [ 61,  68,  75],\n",
       "        [ 95, 106, 117]])"
      ]
     },
     "execution_count": 70,
     "metadata": {},
     "output_type": "execute_result"
    }
   ],
   "source": [
    "a@b # @ = mat multiplication equivalent to torch.matmul"
   ]
  },
  {
   "cell_type": "code",
   "execution_count": 84,
   "id": "2e2f63ec",
   "metadata": {},
   "outputs": [
    {
     "data": {
      "text/plain": [
       "tensor([[18, 13, 15],\n",
       "        [28, 29, 23],\n",
       "        [18, 28, 11]])"
      ]
     },
     "execution_count": 84,
     "metadata": {},
     "output_type": "execute_result"
    }
   ],
   "source": [
    "int_64 = torch.randint(4,30,(3,3)) # low, high, shape\n",
    "int_64"
   ]
  },
  {
   "cell_type": "code",
   "execution_count": 86,
   "id": "83c118ee",
   "metadata": {},
   "outputs": [
    {
     "data": {
      "text/plain": [
       "tensor([[0.5381, 0.8334, 0.3620, 0.7139, 0.4220, 0.1095],\n",
       "        [0.9496, 0.0718, 0.7455, 0.3024, 0.8090, 0.6000],\n",
       "        [0.1969, 0.3433, 0.5676, 0.1066, 0.3918, 0.6449]])"
      ]
     },
     "execution_count": 86,
     "metadata": {},
     "output_type": "execute_result"
    }
   ],
   "source": [
    "float_32 = torch.rand(3,6)\n",
    "float_32"
   ]
  },
  {
   "cell_type": "code",
   "execution_count": 87,
   "id": "aae67527",
   "metadata": {},
   "outputs": [
    {
     "data": {
      "text/plain": [
       "tensor([[24.9837, 21.0845, 24.7213, 18.3817, 23.9892, 19.4438],\n",
       "        [47.1334, 33.3142, 44.8099, 31.2127, 44.2867, 35.2973],\n",
       "        [38.4402, 20.7889, 33.6332, 22.4913, 34.5565, 25.8637]])"
      ]
     },
     "execution_count": 87,
     "metadata": {},
     "output_type": "execute_result"
    }
   ],
   "source": [
    "torch.matmul(int_64.float(),float_32) # dtype should be same for matmul\n",
    "# int_64.float() will cast int into float"
   ]
  },
  {
   "cell_type": "code",
   "execution_count": 103,
   "id": "e7edbca0",
   "metadata": {},
   "outputs": [],
   "source": [
    "device = 'cuda' if torch.cuda.is_available() else 'cpu'\n",
    "n = int(0.8*(len(data)))\n",
    "train_data = data[:n]\n",
    "val_data = data[n:]\n",
    "batch_size = 8\n",
    "def get_batch(split):\n",
    "    data = train_data if split == 'train' else val_data\n",
    "    ix = torch.randint(len(data)-block_size, (batch_size,))\n",
    "    print(ix)\n",
    "    \n",
    "    x = torch.stack([data[i:i+batch_size] for i in ix])\n",
    "    y = torch.stack([data[i:i+batch_size+1] for i in ix])\n",
    "    \n",
    "    x,y = x.to(device), y.to(device)\n",
    "    return x,y"
   ]
  },
  {
   "cell_type": "code",
   "execution_count": 104,
   "id": "9980788a",
   "metadata": {},
   "outputs": [
    {
     "name": "stdout",
     "output_type": "stream",
     "text": [
      "tensor([ 3513, 35788,  8292, 40672, 28342, 16704, 41431, 32359])\n"
     ]
    }
   ],
   "source": [
    "x,y = get_batch(train_data)"
   ]
  },
  {
   "cell_type": "code",
   "execution_count": 105,
   "id": "180d98b0",
   "metadata": {},
   "outputs": [],
   "source": [
    "from torch.nn import functional as F"
   ]
  },
  {
   "cell_type": "code",
   "execution_count": null,
   "id": "e2aa2c4c",
   "metadata": {},
   "outputs": [],
   "source": [
    "class BigramLM(nn.Module):\n",
    "    def __init__(self, vocal_size):\n",
    "        super().__init__()\n",
    "        self.token_embedding_table = nn.Embedding(vocab_size, vocab_size)\n",
    "        \n",
    "    def forward(self,index, targets):\n",
    "        logits = self.token_embedding_table(index)\n",
    "        return logits"
   ]
  }
 ],
 "metadata": {
  "kernelspec": {
   "display_name": "CUDA_GPT",
   "language": "python",
   "name": "cuda-gpt"
  },
  "language_info": {
   "codemirror_mode": {
    "name": "ipython",
    "version": 3
   },
   "file_extension": ".py",
   "mimetype": "text/x-python",
   "name": "python",
   "nbconvert_exporter": "python",
   "pygments_lexer": "ipython3",
   "version": "3.8.10"
  }
 },
 "nbformat": 4,
 "nbformat_minor": 5
}
